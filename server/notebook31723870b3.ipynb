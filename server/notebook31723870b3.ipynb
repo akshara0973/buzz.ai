{
 "cells": [
  {
   "cell_type": "markdown",
   "id": "e5728e23",
   "metadata": {
    "papermill": {
     "duration": 0.003501,
     "end_time": "2025-05-18T18:24:29.609170",
     "exception": false,
     "start_time": "2025-05-18T18:24:29.605669",
     "status": "completed"
    },
    "tags": []
   },
   "source": [
    "## 🐝 Bee Acoustic Challenge: Queen Bee Presence Classifier\n",
    "\n",
    "This notebook presents an end-to-end machine learning pipeline to classify the presence of a queen bee in hive audio recordings. The solution is based on extracting Mel-Frequency Cepstral Coefficients (MFCC) — a commonly used audio feature — using the `librosa` library. A Random Forest classifier is trained on these features to detect whether the queen is present or absent based on the acoustic patterns.\n",
    "\n",
    "The model is evaluated using classification metrics like Accuracy, Precision, Recall, F1-score, ROC AUC, and a confusion matrix. Additionally, a ROC curve is plotted to visualize the model's ability to distinguish between the two classes. This approach enables non-invasive, real-time assessment of hive health, supporting precision apiculture practices.\n"
   ]
  },
  {
   "cell_type": "code",
   "execution_count": 1,
   "id": "db7fe78b",
   "metadata": {
    "execution": {
     "iopub.execute_input": "2025-05-18T18:24:29.616439Z",
     "iopub.status.busy": "2025-05-18T18:24:29.616073Z",
     "iopub.status.idle": "2025-05-18T18:24:29.672245Z",
     "shell.execute_reply": "2025-05-18T18:24:29.671261Z"
    },
    "papermill": {
     "duration": 0.061687,
     "end_time": "2025-05-18T18:24:29.673991",
     "exception": false,
     "start_time": "2025-05-18T18:24:29.612304",
     "status": "completed"
    },
    "tags": []
   },
   "outputs": [
    {
     "data": {
      "text/plain": [
       "['CJ001 - Missing Queen - Day -  (100).lab',\n",
       " 'Hive1_31_05_2018_NO_QueenBee_H1_audio___15_00_00.lab',\n",
       " 'CF003 - Active - Day - (219).lab',\n",
       " 'Hive3_12_07_2017_NO_QueenBee_H3_audio___15_50_00.lab',\n",
       " 'CF003 - Active - Day - (223).lab',\n",
       " 'Hive3_15_07_2017_NO_QueenBee_H3_audio___06_50_00.wav',\n",
       " 'CF003 - Active - Day - (217).wav',\n",
       " 'Hive1_12_06_2018_QueenBee_H1_audio___15_20_00.lab',\n",
       " 'Hive1_12_06_2018_QueenBee_H1_audio___16_40_00.lab',\n",
       " 'Hive1_12_06_2018_QueenBee_H1_audio___15_00_00.lab',\n",
       " 'CF003 - Active - Day - (215).wav',\n",
       " 'CF003 - Active - Day - (226).wav',\n",
       " 'CF003 - Active - Day - (221).wav',\n",
       " 'CF003 - Active - Day - (223).wav',\n",
       " 'Hive3_15_07_2017_NO_QueenBee_H3_audio___07_00_00.lab',\n",
       " 'Hive3_12_07_2017_NO_QueenBee_H3_audio___15_40_00.lab',\n",
       " 'Hive3_12_07_2017_NO_QueenBee_H3_audio___16_10_00.lab',\n",
       " 'Hive3_20_07_2017_QueenBee_H3_audio___15_10_00.lab',\n",
       " 'Hive1_31_05_2018_NO_QueenBee_H1_audio___15_00_00.wav',\n",
       " 'Sound Inside a Swarming Bee Hive  -25 to -15 minutes-sE02T8B2LfA.lab',\n",
       " 'Hive3_20_07_2017_QueenBee_H3_audio___06_20_00.wav',\n",
       " 'Hive3_20_07_2017_QueenBee_H3_audio___16_20_00.lab',\n",
       " 'CJ001 - Missing Queen - Day -  (104).wav',\n",
       " 'Hive3_15_07_2017_NO_QueenBee_H3_audio___06_40_00.wav',\n",
       " 'Hive1_12_06_2018_QueenBee_H1_audio___16_30_00.lab',\n",
       " 'Hive3_20_07_2017_QueenBee_H3_audio___06_30_00.lab',\n",
       " 'Hive3_12_07_2017_NO_QueenBee_H3_audio___17_00_00.wav',\n",
       " 'Hive1_31_05_2018_NO_QueenBee_H1_audio___15_40_00.lab',\n",
       " 'Hive1_12_06_2018_QueenBee_H1_audio___15_40_00.wav',\n",
       " 'Hive3_20_07_2017_QueenBee_H3_audio___15_00_00.lab',\n",
       " 'CF003 - Active - Day - (224).lab',\n",
       " 'CF003 - Active - Day - (227).wav',\n",
       " 'CJ001 - Missing Queen - Day -  (103).lab',\n",
       " 'Hive3_15_07_2017_NO_QueenBee_H3_audio___06_20_00.lab',\n",
       " 'Hive1_12_06_2018_QueenBee_H1_audio___17_00_00.lab',\n",
       " 'GH001 - Active - Day - 141022_0659_0751.lab',\n",
       " 'Hive3_12_07_2017_NO_QueenBee_H3_audio___16_30_00.lab',\n",
       " 'Hive3_20_07_2017_QueenBee_H3_audio___16_40_00.lab',\n",
       " 'CJ001 - Missing Queen - Day -  (100).wav',\n",
       " 'Hive1_12_06_2018_QueenBee_H1_audio___15_40_00.lab',\n",
       " 'Hive3_20_07_2017_QueenBee_H3_audio___15_20_00.lab',\n",
       " 'Hive1_12_06_2018_QueenBee_H1_audio___16_20_00.wav',\n",
       " 'CF003 - Active - Day - (222).lab',\n",
       " 'Hive3_12_07_2017_NO_QueenBee_H3_audio___16_50_00.lab',\n",
       " 'Hive3_15_07_2017_NO_QueenBee_H3_audio___06_20_00.wav',\n",
       " 'CF003 - Active - Day - (218).wav',\n",
       " 'CJ001 - Missing Queen - Day -  (101).lab',\n",
       " 'CF001 - Missing Queen - Day -.mp3',\n",
       " 'Hive3_20_07_2017_QueenBee_H3_audio___16_00_00.lab',\n",
       " 'Hive3_12_07_2017_NO_QueenBee_H3_audio___17_00_00.lab',\n",
       " 'Hive3_12_07_2017_NO_QueenBee_H3_audio___15_00_00.lab',\n",
       " 'Hive3_12_07_2017_NO_QueenBee_H3_audio___15_10_00.lab',\n",
       " 'Hive3_12_07_2017_NO_QueenBee_H3_audio___16_40_00.wav',\n",
       " 'CF001 - Missing Queen - Day -.lab',\n",
       " 'Hive1_12_06_2018_QueenBee_H1_audio___16_10_00.lab',\n",
       " 'CF003 - Active - Day - (225).wav',\n",
       " 'Hive3_20_07_2017_QueenBee_H3_audio___06_10_00.lab',\n",
       " 'GH001 - Active - Day - 141022_0659_0751.mp3',\n",
       " 'CJ001 - Missing Queen - Day -  (104).lab',\n",
       " 'Hive3_12_07_2017_NO_QueenBee_H3_audio___16_00_00.lab',\n",
       " 'CF003 - Active - Day - (214).wav',\n",
       " 'CF003 - Active - Day - (222).wav',\n",
       " 'Hive1_12_06_2018_QueenBee_H1_audio___15_30_00.lab',\n",
       " 'Hive1_31_05_2018_NO_QueenBee_H1_audio___15_20_00.wav',\n",
       " 'Hive3_15_07_2017_NO_QueenBee_H3_audio___06_30_00.lab',\n",
       " 'Sound Inside a Swarming Bee Hive 5 to 15 minutes-BIZx-8kLrdw.lab',\n",
       " 'Hive3_20_07_2017_QueenBee_H3_audio___15_50_00.lab',\n",
       " 'CF003 - Active - Day - (226).lab',\n",
       " 'Hive1_12_06_2018_QueenBee_H1_audio___15_20_00.wav',\n",
       " 'Hive3_20_07_2017_QueenBee_H3_audio___06_50_00.lab',\n",
       " 'beeAnnotations.mlf',\n",
       " 'Hive3_20_07_2017_QueenBee_H3_audio___07_00_00.lab',\n",
       " 'CF003 - Active - Day - (221).lab',\n",
       " 'Hive3_12_07_2017_NO_QueenBee_H3_audio___16_40_00.lab',\n",
       " 'CF003 - Active - Day - (214).lab',\n",
       " 'Hive1_12_06_2018_QueenBee_H1_audio___15_10_00.lab',\n",
       " 'CF003 - Active - Day - (224).wav',\n",
       " 'CF003 - Active - Day - (225).lab',\n",
       " 'Dataset documentation.pdf',\n",
       " 'Hive1_12_06_2018_QueenBee_H1_audio___17_00_00.wav',\n",
       " 'Hive3_20_07_2017_QueenBee_H3_audio___15_40_00.lab',\n",
       " 'Hive3_15_07_2017_NO_QueenBee_H3_audio___06_50_00.lab',\n",
       " 'CF003 - Active - Day - (215).lab',\n",
       " 'Hive1_12_06_2018_QueenBee_H1_audio___16_30_00.wav',\n",
       " 'Hive1_31_05_2018_NO_QueenBee_H1_audio___15_40_00.wav',\n",
       " 'Hive3_20_07_2017_QueenBee_H3_audio___17_00_00.lab',\n",
       " 'Hive3_12_07_2017_NO_QueenBee_H3_audio___16_30_00.wav',\n",
       " 'CF003 - Active - Day - (216).lab',\n",
       " 'CJ001 - Missing Queen - Day -  (101).wav',\n",
       " 'CF003 - Active - Day - (227).lab',\n",
       " 'Hive3_12_07_2017_NO_QueenBee_H3_audio___16_50_00.wav',\n",
       " 'Hive3_20_07_2017_QueenBee_H3_audio___15_30_00.lab',\n",
       " 'Hive3_20_07_2017_QueenBee_H3_audio___16_10_00.lab',\n",
       " 'Hive1_12_06_2018_QueenBee_H1_audio___15_30_00.wav',\n",
       " 'CF003 - Active - Day - (219).wav',\n",
       " 'Hive3_12_07_2017_NO_QueenBee_H3_audio___15_20_00.wav',\n",
       " 'Hive1_12_06_2018_QueenBee_H1_audio___16_50_00.lab',\n",
       " 'Hive1_31_05_2018_NO_QueenBee_H1_audio___15_20_00.lab',\n",
       " 'Hive3_12_07_2017_NO_QueenBee_H3_audio___15_00_00.wav',\n",
       " 'Hive3_20_07_2017_QueenBee_H3_audio___06_10_00.wav',\n",
       " 'Hive3_15_07_2017_NO_QueenBee_H3_audio___06_10_00.lab',\n",
       " 'Hive3_20_07_2017_QueenBee_H3_audio___16_30_00.lab',\n",
       " 'Hive3_12_07_2017_NO_QueenBee_H3_audio___15_30_00.wav',\n",
       " 'Hive3_12_07_2017_NO_QueenBee_H3_audio___15_10_00.wav',\n",
       " 'CJ001 - Missing Queen - Day -  (103).wav',\n",
       " 'Hive3_15_07_2017_NO_QueenBee_H3_audio___07_00_00.wav',\n",
       " 'Hive1_12_06_2018_QueenBee_H1_audio___16_40_00.wav',\n",
       " 'Hive1_31_05_2018_NO_QueenBee_H1_audio___15_10_00.lab',\n",
       " 'Hive3_15_07_2017_NO_QueenBee_H3_audio___06_10_00.wav',\n",
       " 'Hive3_12_07_2017_NO_QueenBee_H3_audio___16_20_00.wav',\n",
       " 'CJ001 - Missing Queen - Day -  (102).lab',\n",
       " 'Hive1_12_06_2018_QueenBee_H1_audio___15_00_00.wav',\n",
       " 'Hive1_12_06_2018_QueenBee_H1_audio___16_00_00.lab',\n",
       " 'Hive3_12_07_2017_NO_QueenBee_H3_audio___15_30_00.lab',\n",
       " 'CF003 - Active - Day - (220).wav',\n",
       " 'Hive3_20_07_2017_QueenBee_H3_audio___16_50_00.lab',\n",
       " 'Hive1_12_06_2018_QueenBee_H1_audio___16_50_00.wav',\n",
       " 'Hive3_20_07_2017_QueenBee_H3_audio___06_40_00.lab',\n",
       " 'Hive1_12_06_2018_QueenBee_H1_audio___16_20_00.lab',\n",
       " 'Hive1_31_05_2018_NO_QueenBee_H1_audio___15_30_00.lab',\n",
       " 'Hive3_12_07_2017_NO_QueenBee_H3_audio___15_20_00.lab',\n",
       " 'Hive3_12_07_2017_NO_QueenBee_H3_audio___15_40_00.wav',\n",
       " 'Hive3_12_07_2017_NO_QueenBee_H3_audio___16_20_00.lab',\n",
       " 'Hive1_12_06_2018_QueenBee_H1_audio___15_10_00.wav',\n",
       " 'CJ001 - Missing Queen - Day -  (102).wav',\n",
       " 'Hive1_31_05_2018_NO_QueenBee_H1_audio___15_10_00.wav',\n",
       " 'CF003 - Active - Day - (220).lab',\n",
       " 'Hive3_15_07_2017_NO_QueenBee_H3_audio___06_30_00.wav',\n",
       " 'Hive1_12_06_2018_QueenBee_H1_audio___16_00_00.wav',\n",
       " 'CF003 - Active - Day - (217).lab',\n",
       " 'CF003 - Active - Day - (218).lab',\n",
       " 'Hive1_31_05_2018_NO_QueenBee_H1_audio___15_30_00.wav',\n",
       " 'Hive1_12_06_2018_QueenBee_H1_audio___16_10_00.wav',\n",
       " 'Hive3_20_07_2017_QueenBee_H3_audio___06_20_00.lab',\n",
       " 'Hive3_15_07_2017_NO_QueenBee_H3_audio___06_40_00.lab',\n",
       " 'CF003 - Active - Day - (216).wav']"
      ]
     },
     "execution_count": 1,
     "metadata": {},
     "output_type": "execute_result"
    }
   ],
   "source": [
    "import os\n",
    "os.listdir('/kaggle/input/to-bee-or-no-to-bee/')\n"
   ]
  },
  {
   "cell_type": "code",
   "execution_count": 2,
   "id": "1276cedf",
   "metadata": {
    "execution": {
     "iopub.execute_input": "2025-05-18T18:24:29.681727Z",
     "iopub.status.busy": "2025-05-18T18:24:29.681392Z",
     "iopub.status.idle": "2025-05-18T18:24:35.522247Z",
     "shell.execute_reply": "2025-05-18T18:24:35.520736Z"
    },
    "papermill": {
     "duration": 5.84772,
     "end_time": "2025-05-18T18:24:35.525054",
     "exception": false,
     "start_time": "2025-05-18T18:24:29.677334",
     "status": "completed"
    },
    "tags": []
   },
   "outputs": [],
   "source": [
    "# Step 1: Import necessary libraries for audio processing, visualization, and machine learning.\n",
    "import os\n",
    "import numpy as np\n",
    "import pandas as pd\n",
    "import librosa\n",
    "import matplotlib.pyplot as plt\n",
    "import seaborn as sns\n",
    "from sklearn.model_selection import train_test_split\n",
    "from sklearn.ensemble import RandomForestClassifier\n",
    "from sklearn.metrics import classification_report, confusion_matrix, roc_auc_score, roc_curve\n",
    "import warnings\n",
    "warnings.filterwarnings('ignore')\n"
   ]
  },
  {
   "cell_type": "code",
   "execution_count": 3,
   "id": "48251138",
   "metadata": {
    "execution": {
     "iopub.execute_input": "2025-05-18T18:24:35.538341Z",
     "iopub.status.busy": "2025-05-18T18:24:35.537872Z",
     "iopub.status.idle": "2025-05-18T18:24:35.564036Z",
     "shell.execute_reply": "2025-05-18T18:24:35.562849Z"
    },
    "papermill": {
     "duration": 0.035159,
     "end_time": "2025-05-18T18:24:35.565624",
     "exception": false,
     "start_time": "2025-05-18T18:24:35.530465",
     "status": "completed"
    },
    "tags": []
   },
   "outputs": [
    {
     "name": "stdout",
     "output_type": "stream",
     "text": [
      "                                            filename  label\n",
      "0  Hive3_15_07_2017_NO_QueenBee_H3_audio___06_50_...      0\n",
      "1  Hive1_31_05_2018_NO_QueenBee_H1_audio___15_00_...      0\n",
      "2  Hive3_20_07_2017_QueenBee_H3_audio___06_20_00.wav      1\n",
      "3           CJ001 - Missing Queen - Day -  (104).wav      0\n",
      "4  Hive3_15_07_2017_NO_QueenBee_H3_audio___06_40_...      0\n",
      "\n",
      "Total samples: 40\n"
     ]
    }
   ],
   "source": [
    "# Step 2: Read audio filenames and assign labels based on file naming conventions.\n",
    "# 1 = Queen present, 0 = Queen not present\n",
    "\n",
    "audio_dir = '/kaggle/input/to-bee-or-no-to-bee/'\n",
    "\n",
    "data = []\n",
    "\n",
    "for file in os.listdir(audio_dir):\n",
    "    if not file.endswith('.wav'):\n",
    "        continue\n",
    "\n",
    "    if \"NO_QueenBee\" in file or \"Missing Queen\" in file:\n",
    "        label = 0  # Queen NOT present\n",
    "    elif \"QueenBee\" in file:\n",
    "        label = 1  # Queen present\n",
    "    else:\n",
    "        continue  # Skip unclassified\n",
    "\n",
    "    data.append((file, label))\n",
    "\n",
    "df = pd.DataFrame(data, columns=['filename', 'label'])\n",
    "print(df.head())\n",
    "print(f\"\\nTotal samples: {len(df)}\")\n"
   ]
  },
  {
   "cell_type": "code",
   "execution_count": 4,
   "id": "7815f31f",
   "metadata": {
    "execution": {
     "iopub.execute_input": "2025-05-18T18:24:35.573591Z",
     "iopub.status.busy": "2025-05-18T18:24:35.573237Z",
     "iopub.status.idle": "2025-05-18T18:24:35.578712Z",
     "shell.execute_reply": "2025-05-18T18:24:35.577951Z"
    },
    "papermill": {
     "duration": 0.011288,
     "end_time": "2025-05-18T18:24:35.580299",
     "exception": false,
     "start_time": "2025-05-18T18:24:35.569011",
     "status": "completed"
    },
    "tags": []
   },
   "outputs": [],
   "source": [
    "# Step 3: Define a function to extract MFCC features from each audio file.\n",
    "# MFCCs capture important frequency characteristics from the sound for analysis.\n",
    "\n",
    "def extract_mfcc(file_path, sr=22050, n_mfcc=40):\n",
    "    y, sr = librosa.load(file_path, sr=sr) # Load the audio file\n",
    "    y, _ = librosa.effects.trim(y) # Remove silent parts\n",
    "    mfcc = librosa.feature.mfcc(y=y, sr=sr, n_mfcc=n_mfcc) # Extract MFCCs\n",
    "    return np.mean(mfcc.T, axis=0) # Average across time axis\n"
   ]
  },
  {
   "cell_type": "code",
   "execution_count": 5,
   "id": "daa7cde7",
   "metadata": {
    "execution": {
     "iopub.execute_input": "2025-05-18T18:24:35.588239Z",
     "iopub.status.busy": "2025-05-18T18:24:35.587839Z",
     "iopub.status.idle": "2025-05-18T18:27:14.371720Z",
     "shell.execute_reply": "2025-05-18T18:27:14.370628Z"
    },
    "papermill": {
     "duration": 158.79252,
     "end_time": "2025-05-18T18:27:14.376327",
     "exception": false,
     "start_time": "2025-05-18T18:24:35.583807",
     "status": "completed"
    },
    "tags": []
   },
   "outputs": [
    {
     "name": "stdout",
     "output_type": "stream",
     "text": [
      "✅ Feature extraction complete.\n",
      "X shape: (40, 40)\n",
      "y shape: (40,)\n"
     ]
    }
   ],
   "source": [
    "# Step 4: Extract MFCC features for all audio files and build the feature and label arrays.\n",
    "X = []\n",
    "y = []\n",
    "\n",
    "for i, row in df.iterrows():\n",
    "    path = os.path.join(audio_dir, row['filename'].strip())\n",
    "    try:\n",
    "        features = extract_mfcc(path)\n",
    "        X.append(features)\n",
    "        y.append(row['label'])\n",
    "    except Exception as e:\n",
    "        print(f\"Error in file {row['filename']}: {e}\")\n",
    "\n",
    "X = np.array(X)\n",
    "y = np.array(y)\n",
    "\n",
    "print(f\"✅ Feature extraction complete.\\nX shape: {X.shape}\\ny shape: {y.shape}\")\n"
   ]
  },
  {
   "cell_type": "code",
   "execution_count": 6,
   "id": "1ec3d183",
   "metadata": {
    "execution": {
     "iopub.execute_input": "2025-05-18T18:27:14.384699Z",
     "iopub.status.busy": "2025-05-18T18:27:14.384050Z",
     "iopub.status.idle": "2025-05-18T18:27:14.535831Z",
     "shell.execute_reply": "2025-05-18T18:27:14.534556Z"
    },
    "papermill": {
     "duration": 0.157854,
     "end_time": "2025-05-18T18:27:14.537467",
     "exception": false,
     "start_time": "2025-05-18T18:27:14.379613",
     "status": "completed"
    },
    "tags": []
   },
   "outputs": [
    {
     "data": {
      "text/html": [
       "<style>#sk-container-id-1 {color: black;background-color: white;}#sk-container-id-1 pre{padding: 0;}#sk-container-id-1 div.sk-toggleable {background-color: white;}#sk-container-id-1 label.sk-toggleable__label {cursor: pointer;display: block;width: 100%;margin-bottom: 0;padding: 0.3em;box-sizing: border-box;text-align: center;}#sk-container-id-1 label.sk-toggleable__label-arrow:before {content: \"▸\";float: left;margin-right: 0.25em;color: #696969;}#sk-container-id-1 label.sk-toggleable__label-arrow:hover:before {color: black;}#sk-container-id-1 div.sk-estimator:hover label.sk-toggleable__label-arrow:before {color: black;}#sk-container-id-1 div.sk-toggleable__content {max-height: 0;max-width: 0;overflow: hidden;text-align: left;background-color: #f0f8ff;}#sk-container-id-1 div.sk-toggleable__content pre {margin: 0.2em;color: black;border-radius: 0.25em;background-color: #f0f8ff;}#sk-container-id-1 input.sk-toggleable__control:checked~div.sk-toggleable__content {max-height: 200px;max-width: 100%;overflow: auto;}#sk-container-id-1 input.sk-toggleable__control:checked~label.sk-toggleable__label-arrow:before {content: \"▾\";}#sk-container-id-1 div.sk-estimator input.sk-toggleable__control:checked~label.sk-toggleable__label {background-color: #d4ebff;}#sk-container-id-1 div.sk-label input.sk-toggleable__control:checked~label.sk-toggleable__label {background-color: #d4ebff;}#sk-container-id-1 input.sk-hidden--visually {border: 0;clip: rect(1px 1px 1px 1px);clip: rect(1px, 1px, 1px, 1px);height: 1px;margin: -1px;overflow: hidden;padding: 0;position: absolute;width: 1px;}#sk-container-id-1 div.sk-estimator {font-family: monospace;background-color: #f0f8ff;border: 1px dotted black;border-radius: 0.25em;box-sizing: border-box;margin-bottom: 0.5em;}#sk-container-id-1 div.sk-estimator:hover {background-color: #d4ebff;}#sk-container-id-1 div.sk-parallel-item::after {content: \"\";width: 100%;border-bottom: 1px solid gray;flex-grow: 1;}#sk-container-id-1 div.sk-label:hover label.sk-toggleable__label {background-color: #d4ebff;}#sk-container-id-1 div.sk-serial::before {content: \"\";position: absolute;border-left: 1px solid gray;box-sizing: border-box;top: 0;bottom: 0;left: 50%;z-index: 0;}#sk-container-id-1 div.sk-serial {display: flex;flex-direction: column;align-items: center;background-color: white;padding-right: 0.2em;padding-left: 0.2em;position: relative;}#sk-container-id-1 div.sk-item {position: relative;z-index: 1;}#sk-container-id-1 div.sk-parallel {display: flex;align-items: stretch;justify-content: center;background-color: white;position: relative;}#sk-container-id-1 div.sk-item::before, #sk-container-id-1 div.sk-parallel-item::before {content: \"\";position: absolute;border-left: 1px solid gray;box-sizing: border-box;top: 0;bottom: 0;left: 50%;z-index: -1;}#sk-container-id-1 div.sk-parallel-item {display: flex;flex-direction: column;z-index: 1;position: relative;background-color: white;}#sk-container-id-1 div.sk-parallel-item:first-child::after {align-self: flex-end;width: 50%;}#sk-container-id-1 div.sk-parallel-item:last-child::after {align-self: flex-start;width: 50%;}#sk-container-id-1 div.sk-parallel-item:only-child::after {width: 0;}#sk-container-id-1 div.sk-dashed-wrapped {border: 1px dashed gray;margin: 0 0.4em 0.5em 0.4em;box-sizing: border-box;padding-bottom: 0.4em;background-color: white;}#sk-container-id-1 div.sk-label label {font-family: monospace;font-weight: bold;display: inline-block;line-height: 1.2em;}#sk-container-id-1 div.sk-label-container {text-align: center;}#sk-container-id-1 div.sk-container {/* jupyter's `normalize.less` sets `[hidden] { display: none; }` but bootstrap.min.css set `[hidden] { display: none !important; }` so we also need the `!important` here to be able to override the default hidden behavior on the sphinx rendered scikit-learn.org. See: https://github.com/scikit-learn/scikit-learn/issues/21755 */display: inline-block !important;position: relative;}#sk-container-id-1 div.sk-text-repr-fallback {display: none;}</style><div id=\"sk-container-id-1\" class=\"sk-top-container\"><div class=\"sk-text-repr-fallback\"><pre>RandomForestClassifier(random_state=42)</pre><b>In a Jupyter environment, please rerun this cell to show the HTML representation or trust the notebook. <br />On GitHub, the HTML representation is unable to render, please try loading this page with nbviewer.org.</b></div><div class=\"sk-container\" hidden><div class=\"sk-item\"><div class=\"sk-estimator sk-toggleable\"><input class=\"sk-toggleable__control sk-hidden--visually\" id=\"sk-estimator-id-1\" type=\"checkbox\" checked><label for=\"sk-estimator-id-1\" class=\"sk-toggleable__label sk-toggleable__label-arrow\">RandomForestClassifier</label><div class=\"sk-toggleable__content\"><pre>RandomForestClassifier(random_state=42)</pre></div></div></div></div></div>"
      ],
      "text/plain": [
       "RandomForestClassifier(random_state=42)"
      ]
     },
     "execution_count": 6,
     "metadata": {},
     "output_type": "execute_result"
    }
   ],
   "source": [
    "# Step 5: Split the dataset into training and test sets.\n",
    "# Train a Random Forest classifier using the MFCC features.\n",
    "\n",
    "X_train, X_test, y_train, y_test = train_test_split(\n",
    "    X, y, test_size=0.2, random_state=42, stratify=y\n",
    ")\n",
    "\n",
    "model = RandomForestClassifier(n_estimators=100, random_state=42)\n",
    "model.fit(X_train, y_train) # Train the model\n"
   ]
  },
  {
   "cell_type": "code",
   "execution_count": 7,
   "id": "d65e07c2",
   "metadata": {
    "execution": {
     "iopub.execute_input": "2025-05-18T18:27:14.546304Z",
     "iopub.status.busy": "2025-05-18T18:27:14.545455Z",
     "iopub.status.idle": "2025-05-18T18:27:14.901456Z",
     "shell.execute_reply": "2025-05-18T18:27:14.900368Z"
    },
    "papermill": {
     "duration": 0.362081,
     "end_time": "2025-05-18T18:27:14.903253",
     "exception": false,
     "start_time": "2025-05-18T18:27:14.541172",
     "status": "completed"
    },
    "tags": []
   },
   "outputs": [
    {
     "name": "stdout",
     "output_type": "stream",
     "text": [
      "📊 Classification Report:\n",
      "              precision    recall  f1-score   support\n",
      "\n",
      "           0       1.00      1.00      1.00         5\n",
      "           1       1.00      1.00      1.00         3\n",
      "\n",
      "    accuracy                           1.00         8\n",
      "   macro avg       1.00      1.00      1.00         8\n",
      "weighted avg       1.00      1.00      1.00         8\n",
      "\n",
      "🔥 ROC AUC Score: 1.0\n"
     ]
    },
    {
     "data": {
      "image/png": "[encoded data removed]",
      "text/plain": [
       "<Figure size 640x480 with 2 Axes>"
      ]
     },
     "metadata": {},
     "output_type": "display_data"
    }
   ],
   "source": [
    "# Step 6: Evaluate the model using accuracy, precision, recall, F1-score, and confusion matrix.\n",
    "\n",
    "from sklearn.metrics import classification_report, confusion_matrix, roc_auc_score\n",
    "import seaborn as sns\n",
    "import matplotlib.pyplot as plt\n",
    "\n",
    "# Predictions\n",
    "y_pred = model.predict(X_test)\n",
    "y_proba = model.predict_proba(X_test)[:, 1]\n",
    "\n",
    "# Classification Report\n",
    "print(\"📊 Classification Report:\")\n",
    "print(classification_report(y_test, y_pred))\n",
    "\n",
    "# ROC AUC Score\n",
    "print(\"🔥 ROC AUC Score:\", roc_auc_score(y_test, y_proba))\n",
    "\n",
    "# Confusion Matrix\n",
    "cm = confusion_matrix(y_test, y_pred)\n",
    "sns.heatmap(cm, annot=True, fmt='d', cmap='Blues')\n",
    "plt.title(\"Confusion Matrix\")\n",
    "plt.xlabel(\"Predicted\")\n",
    "plt.ylabel(\"True\")\n",
    "plt.show()\n"
   ]
  },
  {
   "cell_type": "code",
   "execution_count": 8,
   "id": "fcb0938c",
   "metadata": {
    "execution": {
     "iopub.execute_input": "2025-05-18T18:27:14.912772Z",
     "iopub.status.busy": "2025-05-18T18:27:14.912414Z",
     "iopub.status.idle": "2025-05-18T18:27:15.104194Z",
     "shell.execute_reply": "2025-05-18T18:27:15.103081Z"
    },
    "papermill": {
     "duration": 0.198626,
     "end_time": "2025-05-18T18:27:15.105940",
     "exception": false,
     "start_time": "2025-05-18T18:27:14.907314",
     "status": "completed"
    },
    "tags": []
   },
   "outputs": [
    {
     "data": {
      "image/png": "[encoded data removed]",
      "text/plain": [
       "<Figure size 640x480 with 1 Axes>"
      ]
     },
     "metadata": {},
     "output_type": "display_data"
    }
   ],
   "source": [
    "# Step 7: Plot the ROC curve to visualize model performance across different thresholds.\n",
    "\n",
    "fpr, tpr, _ = roc_curve(y_test, y_proba)\n",
    "plt.plot(fpr, tpr, label='ROC Curve (AUC = {:.2f})'.format(roc_auc_score(y_test, y_proba)))\n",
    "plt.plot([0,1], [0,1], 'k--')\n",
    "plt.xlabel(\"False Positive Rate\")\n",
    "plt.ylabel(\"True Positive Rate\")\n",
    "plt.title(\"ROC Curve\")\n",
    "plt.legend()\n",
    "plt.grid()\n",
    "plt.show()\n"
   ]
  },
  {
   "cell_type": "markdown",
   "id": "71199635",
   "metadata": {
    "papermill": {
     "duration": 0.004049,
     "end_time": "2025-05-18T18:27:15.114683",
     "exception": false,
     "start_time": "2025-05-18T18:27:15.110634",
     "status": "completed"
    },
    "tags": []
   },
   "source": [
    "## 🔍 The below block is used to test a specific audio file individually.\n",
    "**⬇️⬇️It checks whether the selected hive audio contains the Queen Bee or not. The model processes the selected audio, extracts MFCC features,and then predicts the queen bees presence (1) or absence (0).⬇️⬇️**\n"
   ]
  },
  {
   "cell_type": "code",
   "execution_count": 9,
   "id": "8ce203f2",
   "metadata": {
    "execution": {
     "iopub.execute_input": "2025-05-18T18:27:15.125307Z",
     "iopub.status.busy": "2025-05-18T18:27:15.124416Z",
     "iopub.status.idle": "2025-05-18T18:27:17.506467Z",
     "shell.execute_reply": "2025-05-18T18:27:17.505355Z"
    },
    "papermill": {
     "duration": 2.389452,
     "end_time": "2025-05-18T18:27:17.508420",
     "exception": false,
     "start_time": "2025-05-18T18:27:15.118968",
     "status": "completed"
    },
    "tags": []
   },
   "outputs": [
    {
     "name": "stdout",
     "output_type": "stream",
     "text": [
      "❌ Queen Bee is NOT PRESENT in 'Hive3_15_07_2017_NO_QueenBee_H3_audio___06_50_00.wav' (Confidence: 0.92)\n"
     ]
    }
   ],
   "source": [
    "\n",
    "import os\n",
    "\n",
    "audio_dir = '/kaggle/input/to-bee-or-no-to-bee/'  # ✅ define path again\n",
    "\n",
    "sample_filename = 'Hive3_15_07_2017_NO_QueenBee_H3_audio___06_50_00.wav'\n",
    "sample_path = os.path.join(audio_dir, sample_filename)\n",
    "\n",
    "# Extract features\n",
    "sample_features = extract_mfcc(sample_path).reshape(1, -1)\n",
    "\n",
    "# Predict\n",
    "predicted_label = model.predict(sample_features)[0]\n",
    "predicted_proba = model.predict_proba(sample_features)[0][1]\n",
    "\n",
    "# Output\n",
    "if predicted_label == 1:\n",
    "    print(f\"✅ Queen Bee is PRESENT in '{sample_filename}' (Confidence: {predicted_proba:.2f})\")\n",
    "else:\n",
    "    print(f\"❌ Queen Bee is NOT PRESENT in '{sample_filename}' (Confidence: {1 - predicted_proba:.2f})\")\n"
   ]
  },
  {
   "cell_type": "code",
   "execution_count": null,
   "id": "f9009f35",
   "metadata": {
    "papermill": {
     "duration": 0.004249,
     "end_time": "2025-05-18T18:27:17.517339",
     "exception": false,
     "start_time": "2025-05-18T18:27:17.513090",
     "status": "completed"
    },
    "tags": []
   },
   "outputs": [],
   "source": []
  }
 ],
 "metadata": {
  "kaggle": {
   "accelerator": "none",
   "dataSources": [
    {
     "datasetId": 501224,
     "sourceId": 928375,
     "sourceType": "datasetVersion"
    }
   ],
   "dockerImageVersionId": 31040,
   "isGpuEnabled": false,
   "isInternetEnabled": false,
   "language": "python",
   "sourceType": "notebook"
  },
  "kernelspec": {
   "display_name": "Python 3",
   "language": "python",
   "name": "python3"
  },
  "language_info": {
   "codemirror_mode": {
    "name": "ipython",
    "version": 3
   },
   "file_extension": ".py",
   "mimetype": "text/x-python",
   "name": "python",
   "nbconvert_exporter": "python",
   "pygments_lexer": "ipython3",
   "version": "3.11.11"
  },
  "papermill": {
   "default_parameters": {},
   "duration": 176.978582,
   "end_time": "2025-05-18T18:27:18.746765",
   "environment_variables": {},
   "exception": null,
   "input_path": "__notebook__.ipynb",
   "output_path": "__notebook__.ipynb",
   "parameters": {},
   "start_time": "2025-05-18T18:24:21.768183",
   "version": "2.6.0"
  }
 },
 "nbformat": 4,
 "nbformat_minor": 5
}
